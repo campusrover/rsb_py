{
 "cells": [
  {
   "cell_type": "code",
   "execution_count": null,
   "metadata": {},
   "outputs": [],
   "source": [
    "%reload_ext autoreload\n",
    "%autoreload 2"
   ]
  },
  {
   "cell_type": "code",
   "execution_count": null,
   "metadata": {},
   "outputs": [],
   "source": [
    "from calysto.graphics import *\n",
    "from calysto.display import display, clear_output\n",
    "import time\n",
    "import math\n",
    "\n",
    "\n",
    "canvas = Canvas(size=(200,200))\n",
    "line = Line((50,50), (60,60))\n",
    "line.stroke = Color(255, 0, 0)\n",
    "for i in range(25):\n",
    "    line.move((5,5))\n",
    "    line.draw(canvas)\n",
    "    time.sleep(0.1)\n",
    "    clear_output(wait=True)\n",
    "    display(canvas)\n",
    "\n"
   ]
  },
  {
   "cell_type": "code",
   "execution_count": null,
   "metadata": {},
   "outputs": [],
   "source": [
    "from rsb import world\n",
    "from rsb.redisutil import RedisUtil\n",
    "import json\n",
    "rutil = RedisUtil(\"pito\")\n",
    "raw_map = rutil.get_next_map()\n",
    "world = world.World()\n",
    "world.rebuild(raw_map)\n"
   ]
  },
  {
   "cell_type": "code",
   "execution_count": null,
   "metadata": {
    "tags": [
     "outputPrepend",
     "outputPrepend",
     "outputPrepend",
     "outputPrepend",
     "outputPrepend",
     "outputPrepend",
     "outputPrepend",
     "outputPrepend",
     "outputPrepend",
     "outputPrepend",
     "outputPrepend",
     "outputPrepend",
     "outputPrepend",
     "outputPrepend",
     "outputPrepend"
    ]
   },
   "outputs": [],
   "source": [
    "from calysto.graphics import *\n",
    "from calysto.display import display, clear_output\n",
    "import time\n",
    "import math\n",
    "from rsb.world import World\n",
    "from rsb.redisutil import RedisUtil\n",
    "import json\n",
    "rutil = RedisUtil(\"pito\")\n",
    "canvas = Canvas(size=(500,500))\n",
    "while True:\n",
    "    raw_map = rutil.get_next_map()\n",
    "    world = World()\n",
    "    world.rebuild(raw_map)\n",
    "    for w in world.walls:\n",
    "        w = list(map(lambda x: (x+5)*100, w))\n",
    "        line = Line((w[0], w[1]),(w[2], w[3]))\n",
    "        line.stroke = Color(255, 0, 0)\n",
    "        line.draw(canvas)\n",
    "        time.sleep(0.1)\n",
    "        clear_output(wait=True)\n",
    "        display(canvas)\n",
    "\n"
   ]
  },
  {
   "cell_type": "code",
   "execution_count": 1,
   "metadata": {},
   "outputs": [
    {
     "output_type": "error",
     "ename": "AttributeError",
     "evalue": "'tuple' object has no attribute 'decode'",
     "traceback": [
      "\u001b[0;31m---------------------------------------------------------------------------\u001b[0m",
      "\u001b[0;31mAttributeError\u001b[0m                            Traceback (most recent call last)",
      "\u001b[0;32m<ipython-input-1-54411181f692>\u001b[0m in \u001b[0;36m<module>\u001b[0;34m\u001b[0m\n\u001b[1;32m      2\u001b[0m \u001b[0;32mfrom\u001b[0m \u001b[0mrsb\u001b[0m\u001b[0;34m.\u001b[0m\u001b[0mredisutil\u001b[0m \u001b[0;32mimport\u001b[0m \u001b[0mRedisUtil\u001b[0m\u001b[0;34m\u001b[0m\u001b[0;34m\u001b[0m\u001b[0m\n\u001b[1;32m      3\u001b[0m \u001b[0mrutil\u001b[0m \u001b[0;34m=\u001b[0m \u001b[0mRedisUtil\u001b[0m\u001b[0;34m(\u001b[0m\u001b[0;34m\"pito\"\u001b[0m\u001b[0;34m)\u001b[0m\u001b[0;34m\u001b[0m\u001b[0;34m\u001b[0m\u001b[0m\n\u001b[0;32m----> 4\u001b[0;31m \u001b[0mraw_map\u001b[0m \u001b[0;34m=\u001b[0m \u001b[0mrutil\u001b[0m\u001b[0;34m.\u001b[0m\u001b[0mget_next_map\u001b[0m\u001b[0;34m(\u001b[0m\u001b[0;34m)\u001b[0m\u001b[0;34m\u001b[0m\u001b[0;34m\u001b[0m\u001b[0m\n\u001b[0m",
      "\u001b[0;32m~/mydev/playrsb/rsb/redisutil.py\u001b[0m in \u001b[0;36mget_next_map\u001b[0;34m(self)\u001b[0m\n\u001b[1;32m     27\u001b[0m     \u001b[0;32mdef\u001b[0m \u001b[0mget_next_map\u001b[0m\u001b[0;34m(\u001b[0m\u001b[0mself\u001b[0m\u001b[0;34m)\u001b[0m\u001b[0;34m:\u001b[0m\u001b[0;34m\u001b[0m\u001b[0;34m\u001b[0m\u001b[0m\n\u001b[1;32m     28\u001b[0m         \u001b[0mraw_bytes\u001b[0m \u001b[0;34m=\u001b[0m \u001b[0mself\u001b[0m\u001b[0;34m.\u001b[0m\u001b[0mredishandle\u001b[0m\u001b[0;34m.\u001b[0m\u001b[0mbrpop\u001b[0m\u001b[0;34m(\u001b[0m\u001b[0mself\u001b[0m\u001b[0;34m.\u001b[0m\u001b[0mns\u001b[0m \u001b[0;34m+\u001b[0m \u001b[0;34m\"/Map\"\u001b[0m\u001b[0;34m)\u001b[0m\u001b[0;34m\u001b[0m\u001b[0;34m\u001b[0m\u001b[0m\n\u001b[0;32m---> 29\u001b[0;31m         \u001b[0mrez\u001b[0m \u001b[0;34m=\u001b[0m \u001b[0mjson\u001b[0m\u001b[0;34m.\u001b[0m\u001b[0mloads\u001b[0m\u001b[0;34m(\u001b[0m\u001b[0mstr\u001b[0m\u001b[0;34m(\u001b[0m\u001b[0mraw_bytes\u001b[0m\u001b[0;34m.\u001b[0m\u001b[0mdecode\u001b[0m\u001b[0;34m(\u001b[0m\u001b[0;34m\"utf8\"\u001b[0m\u001b[0;34m)\u001b[0m\u001b[0;34m)\u001b[0m\u001b[0;34m)\u001b[0m\u001b[0;34m\u001b[0m\u001b[0;34m\u001b[0m\u001b[0m\n\u001b[0m\u001b[1;32m     30\u001b[0m         \u001b[0;32mreturn\u001b[0m \u001b[0mrez\u001b[0m\u001b[0;34m\u001b[0m\u001b[0;34m\u001b[0m\u001b[0m\n",
      "\u001b[0;31mAttributeError\u001b[0m: 'tuple' object has no attribute 'decode'"
     ]
    }
   ],
   "source": [
    "from rsb.world import World\n",
    "from rsb.redisutil import RedisUtil\n",
    "rutil = RedisUtil(\"pito\")\n",
    "raw_bytes = rutil.redishandle.brpop(self.ns + \"/Map\")"
   ]
  },
  {
   "cell_type": "markdown",
   "metadata": {},
   "source": []
  },
  {
   "cell_type": "code",
   "execution_count": null,
   "metadata": {},
   "outputs": [],
   "source": []
  }
 ],
 "metadata": {
  "kernelspec": {
   "display_name": "Python 3",
   "language": "python",
   "name": "python3"
  },
  "language_info": {
   "codemirror_mode": {
    "name": "ipython",
    "version": 3
   },
   "file_extension": ".py",
   "mimetype": "text/x-python",
   "name": "python",
   "nbconvert_exporter": "python",
   "pygments_lexer": "ipython3",
   "version": "3.7.6-final"
  }
 },
 "nbformat": 4,
 "nbformat_minor": 2
}